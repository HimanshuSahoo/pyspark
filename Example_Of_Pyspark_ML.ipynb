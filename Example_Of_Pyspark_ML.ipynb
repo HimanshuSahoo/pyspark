{
  "cells": [
    {
      "cell_type": "markdown",
      "metadata": {
        "id": "view-in-github",
        "colab_type": "text"
      },
      "source": [
        "<a href=\"https://colab.research.google.com/github/HimanshuSahoo/pyspark/blob/main/Example_Of_Pyspark_ML.ipynb\" target=\"_parent\"><img src=\"https://colab.research.google.com/assets/colab-badge.svg\" alt=\"Open In Colab\"/></a>"
      ]
    },
    {
      "cell_type": "markdown",
      "id": "8ca1bb0d",
      "metadata": {
        "id": "8ca1bb0d"
      },
      "source": [
        "## Examples Of Pyspark ML"
      ]
    },
    {
      "cell_type": "code",
      "execution_count": null,
      "id": "45af2413",
      "metadata": {
        "id": "45af2413"
      },
      "outputs": [],
      "source": [
        "from pyspark.sql import SparkSession\n",
        "spark=SparkSession.builder.appName('Missing').getOrCreate()"
      ]
    },
    {
      "cell_type": "code",
      "execution_count": null,
      "id": "7d877c25",
      "metadata": {
        "id": "7d877c25"
      },
      "outputs": [],
      "source": [
        "## Read The dataset\n",
        "training = spark.read.csv('test1.csv',header=True,inferSchema=True)"
      ]
    },
    {
      "cell_type": "code",
      "execution_count": null,
      "id": "8fdaa790",
      "metadata": {
        "id": "8fdaa790"
      },
      "outputs": [],
      "source": [
        "training.show()"
      ]
    },
    {
      "cell_type": "code",
      "execution_count": null,
      "id": "a7d1771e",
      "metadata": {
        "id": "a7d1771e"
      },
      "outputs": [],
      "source": [
        "training.printSchema()"
      ]
    },
    {
      "cell_type": "code",
      "execution_count": null,
      "id": "db3dfbed",
      "metadata": {
        "id": "db3dfbed"
      },
      "outputs": [],
      "source": [
        "training.columns"
      ]
    },
    {
      "cell_type": "code",
      "execution_count": null,
      "id": "afaf382f",
      "metadata": {
        "id": "afaf382f"
      },
      "outputs": [],
      "source": [
        "[Age,Experience]----> new feature--->independent feature"
      ]
    },
    {
      "cell_type": "code",
      "execution_count": null,
      "id": "b68c595e",
      "metadata": {
        "id": "b68c595e"
      },
      "outputs": [],
      "source": [
        "from pyspark.ml.feature import VectorAssembler\n",
        "featureassembler=VectorAssembler(inputCols=[\"age\",\"Experience\"],outputCol=\"Independent Features\")"
      ]
    },
    {
      "cell_type": "code",
      "execution_count": null,
      "id": "58b3be6a",
      "metadata": {
        "id": "58b3be6a"
      },
      "outputs": [],
      "source": [
        "output=featureassembler.transform(training)"
      ]
    },
    {
      "cell_type": "code",
      "execution_count": null,
      "id": "c75fd068",
      "metadata": {
        "id": "c75fd068"
      },
      "outputs": [],
      "source": [
        "output.show()"
      ]
    },
    {
      "cell_type": "code",
      "execution_count": null,
      "id": "a98c97a1",
      "metadata": {
        "id": "a98c97a1"
      },
      "outputs": [],
      "source": [
        "output.columns"
      ]
    },
    {
      "cell_type": "code",
      "execution_count": null,
      "id": "c8d66d8a",
      "metadata": {
        "id": "c8d66d8a"
      },
      "outputs": [],
      "source": [
        "finalized_data=output.select(\"Independent Features\",\"Salary\")"
      ]
    },
    {
      "cell_type": "code",
      "execution_count": null,
      "id": "bb5691b7",
      "metadata": {
        "id": "bb5691b7"
      },
      "outputs": [],
      "source": [
        "finalized_data.show()"
      ]
    },
    {
      "cell_type": "code",
      "execution_count": null,
      "id": "b8655369",
      "metadata": {
        "id": "b8655369"
      },
      "outputs": [],
      "source": [
        "from pyspark.ml.regression import LinearRegression\n",
        "##train test split\n",
        "train_data,test_data=finalized_data.randomSplit([0.75,0.25])\n",
        "regressor=LinearRegression(featuresCol='Independent Features', labelCol='Salary')\n",
        "regressor=regressor.fit(train_data)"
      ]
    },
    {
      "cell_type": "code",
      "execution_count": null,
      "id": "a412e2f7",
      "metadata": {
        "id": "a412e2f7"
      },
      "outputs": [],
      "source": [
        "### Coefficients\n",
        "regressor.coefficients"
      ]
    },
    {
      "cell_type": "code",
      "execution_count": null,
      "id": "7f75ee2a",
      "metadata": {
        "id": "7f75ee2a"
      },
      "outputs": [],
      "source": [
        "### Intercepts\n",
        "regressor.intercept"
      ]
    },
    {
      "cell_type": "code",
      "execution_count": null,
      "id": "98bf894b",
      "metadata": {
        "id": "98bf894b"
      },
      "outputs": [],
      "source": [
        "### Prediction\n",
        "pred_results=regressor.evaluate(test_data)"
      ]
    },
    {
      "cell_type": "code",
      "execution_count": null,
      "id": "b63acf28",
      "metadata": {
        "id": "b63acf28"
      },
      "outputs": [],
      "source": [
        "pred_results.predictions.show()"
      ]
    },
    {
      "cell_type": "code",
      "execution_count": null,
      "id": "04ba1585",
      "metadata": {
        "id": "04ba1585"
      },
      "outputs": [],
      "source": [
        "pred_results.meanAbsoluteError,pred_results.meanSquaredError"
      ]
    }
  ],
  "metadata": {
    "kernelspec": {
      "display_name": "Python 3",
      "language": "python",
      "name": "python3"
    },
    "language_info": {
      "codemirror_mode": {
        "name": "ipython",
        "version": 3
      },
      "file_extension": ".py",
      "mimetype": "text/x-python",
      "name": "python",
      "nbconvert_exporter": "python",
      "pygments_lexer": "ipython3",
      "version": "3.8.8"
    },
    "toc": {
      "base_numbering": 1,
      "nav_menu": {},
      "number_sections": true,
      "sideBar": true,
      "skip_h1_title": false,
      "title_cell": "Table of Contents",
      "title_sidebar": "Contents",
      "toc_cell": false,
      "toc_position": {},
      "toc_section_display": true,
      "toc_window_display": false
    },
    "varInspector": {
      "cols": {
        "lenName": 16,
        "lenType": 16,
        "lenVar": 40
      },
      "kernels_config": {
        "python": {
          "delete_cmd_postfix": "",
          "delete_cmd_prefix": "del ",
          "library": "var_list.py",
          "varRefreshCmd": "print(var_dic_list())"
        },
        "r": {
          "delete_cmd_postfix": ") ",
          "delete_cmd_prefix": "rm(",
          "library": "var_list.r",
          "varRefreshCmd": "cat(var_dic_list()) "
        }
      },
      "types_to_exclude": [
        "module",
        "function",
        "builtin_function_or_method",
        "instance",
        "_Feature"
      ],
      "window_display": false
    },
    "colab": {
      "name": "Example Of Pyspark ML.ipynb",
      "provenance": [],
      "include_colab_link": true
    }
  },
  "nbformat": 4,
  "nbformat_minor": 5
}