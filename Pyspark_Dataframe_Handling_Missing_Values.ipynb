{
  "cells": [
    {
      "cell_type": "markdown",
      "metadata": {
        "id": "view-in-github",
        "colab_type": "text"
      },
      "source": [
        "<a href=\"https://colab.research.google.com/github/HimanshuSahoo/pyspark/blob/main/Pyspark_Dataframe_Handling_Missing_Values.ipynb\" target=\"_parent\"><img src=\"https://colab.research.google.com/assets/colab-badge.svg\" alt=\"Open In Colab\"/></a>"
      ]
    },
    {
      "cell_type": "markdown",
      "id": "86e677bf",
      "metadata": {
        "id": "86e677bf"
      },
      "source": [
        "## Pyspark Handling Missing Values\n",
        "Dropping Columns\n",
        "\n",
        "Dropping Rows\n",
        "\n",
        "Various Parameter In Dropping functionalities\n",
        "\n",
        "Handling Missing values by Mean, MEdian And Mode"
      ]
    },
    {
      "cell_type": "code",
      "execution_count": null,
      "id": "499495b0",
      "metadata": {
        "id": "499495b0"
      },
      "outputs": [],
      "source": [
        "from pyspark.sql import SparkSession\n",
        "spark=SparkSession.builder.appName('Practise').getOrCreate()"
      ]
    },
    {
      "cell_type": "code",
      "execution_count": null,
      "id": "3f0c9b77",
      "metadata": {
        "id": "3f0c9b77"
      },
      "outputs": [],
      "source": [
        "df_pyspark=spark.read.csv('test2.csv',header=True,inferSchema=True)"
      ]
    },
    {
      "cell_type": "code",
      "execution_count": null,
      "id": "c717dda9",
      "metadata": {
        "id": "c717dda9"
      },
      "outputs": [],
      "source": [
        "df_pyspark.printSchema()"
      ]
    },
    {
      "cell_type": "code",
      "execution_count": null,
      "id": "8df455d5",
      "metadata": {
        "id": "8df455d5"
      },
      "outputs": [],
      "source": [
        "df_pyspark.show()"
      ]
    },
    {
      "cell_type": "code",
      "execution_count": null,
      "id": "f6d6c633",
      "metadata": {
        "id": "f6d6c633"
      },
      "outputs": [],
      "source": [
        "##drop the columns\n",
        "df_pyspark.drop('Name').show()"
      ]
    },
    {
      "cell_type": "code",
      "execution_count": null,
      "id": "169b0b7c",
      "metadata": {
        "id": "169b0b7c"
      },
      "outputs": [],
      "source": [
        "df_pyspark.show()"
      ]
    },
    {
      "cell_type": "code",
      "execution_count": null,
      "id": "2480f180",
      "metadata": {
        "id": "2480f180"
      },
      "outputs": [],
      "source": [
        "df_pyspark.na.drop().show()"
      ]
    },
    {
      "cell_type": "code",
      "execution_count": null,
      "id": "48042841",
      "metadata": {
        "id": "48042841"
      },
      "outputs": [],
      "source": [
        "### any==how\n",
        "df_pyspark.na.drop(how=\"any\").show()"
      ]
    },
    {
      "cell_type": "code",
      "execution_count": null,
      "id": "4e68da68",
      "metadata": {
        "id": "4e68da68"
      },
      "outputs": [],
      "source": [
        "##threshold\n",
        "df_pyspark.na.drop(how=\"any\",thresh=3).show()"
      ]
    },
    {
      "cell_type": "code",
      "execution_count": null,
      "id": "faa82971",
      "metadata": {
        "id": "faa82971"
      },
      "outputs": [],
      "source": [
        "##Subset\n",
        "df_pyspark.na.drop(how=\"any\",subset=['Age']).show()"
      ]
    },
    {
      "cell_type": "code",
      "execution_count": null,
      "id": "3eeab342",
      "metadata": {
        "id": "3eeab342"
      },
      "outputs": [],
      "source": [
        "### Filling the Missing Value\n",
        "df_pyspark.na.fill('Missing Values',['Experience','age']).show()"
      ]
    },
    {
      "cell_type": "code",
      "execution_count": null,
      "id": "a7869f65",
      "metadata": {
        "id": "a7869f65"
      },
      "outputs": [],
      "source": [
        "df_pyspark.show()"
      ]
    },
    {
      "cell_type": "code",
      "execution_count": null,
      "id": "f434a05c",
      "metadata": {
        "id": "f434a05c"
      },
      "outputs": [],
      "source": [
        "df_pyspark.printSchema()"
      ]
    },
    {
      "cell_type": "code",
      "execution_count": null,
      "id": "77bd03bd",
      "metadata": {
        "id": "77bd03bd"
      },
      "outputs": [],
      "source": [
        "from pyspark.ml.feature import Imputer\n",
        "\n",
        "imputer = Imputer(\n",
        "    inputCols=['age', 'Experience', 'Salary'], \n",
        "    outputCols=[\"{}_imputed\".format(c) for c in ['age', 'Experience', 'Salary']]\n",
        "    ).setStrategy(\"median\")"
      ]
    },
    {
      "cell_type": "code",
      "execution_count": null,
      "id": "7e02cb95",
      "metadata": {
        "id": "7e02cb95"
      },
      "outputs": [],
      "source": [
        "# Add imputation cols to df\n",
        "imputer.fit(df_pyspark).transform(df_pyspark).show()"
      ]
    }
  ],
  "metadata": {
    "kernelspec": {
      "display_name": "Python 3",
      "language": "python",
      "name": "python3"
    },
    "language_info": {
      "codemirror_mode": {
        "name": "ipython",
        "version": 3
      },
      "file_extension": ".py",
      "mimetype": "text/x-python",
      "name": "python",
      "nbconvert_exporter": "python",
      "pygments_lexer": "ipython3",
      "version": "3.8.8"
    },
    "toc": {
      "base_numbering": 1,
      "nav_menu": {},
      "number_sections": true,
      "sideBar": true,
      "skip_h1_title": false,
      "title_cell": "Table of Contents",
      "title_sidebar": "Contents",
      "toc_cell": false,
      "toc_position": {},
      "toc_section_display": true,
      "toc_window_display": false
    },
    "varInspector": {
      "cols": {
        "lenName": 16,
        "lenType": 16,
        "lenVar": 40
      },
      "kernels_config": {
        "python": {
          "delete_cmd_postfix": "",
          "delete_cmd_prefix": "del ",
          "library": "var_list.py",
          "varRefreshCmd": "print(var_dic_list())"
        },
        "r": {
          "delete_cmd_postfix": ") ",
          "delete_cmd_prefix": "rm(",
          "library": "var_list.r",
          "varRefreshCmd": "cat(var_dic_list()) "
        }
      },
      "types_to_exclude": [
        "module",
        "function",
        "builtin_function_or_method",
        "instance",
        "_Feature"
      ],
      "window_display": false
    },
    "colab": {
      "name": "Pyspark Dataframe- Handling Missing Values.ipynb",
      "provenance": [],
      "include_colab_link": true
    }
  },
  "nbformat": 4,
  "nbformat_minor": 5
}