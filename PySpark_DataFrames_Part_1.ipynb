{
  "cells": [
    {
      "cell_type": "markdown",
      "metadata": {
        "id": "view-in-github",
        "colab_type": "text"
      },
      "source": [
        "<a href=\"https://colab.research.google.com/github/HimanshuSahoo/pyspark/blob/main/PySpark_DataFrames_Part_1.ipynb\" target=\"_parent\"><img src=\"https://colab.research.google.com/assets/colab-badge.svg\" alt=\"Open In Colab\"/></a>"
      ]
    },
    {
      "cell_type": "markdown",
      "id": "7da5ed71",
      "metadata": {
        "id": "7da5ed71"
      },
      "source": [
        "## In this Chapter We will Cover\n",
        "PySpark Dataframe\n",
        "\n",
        "Reading The Dataset\n",
        "\n",
        "Checking the Datatypes of the Column(Schema)\n",
        "\n",
        "Selecting Columns And Indexing\n",
        "\n",
        "Check Describe option similar to Pandas\n",
        "\n",
        "Adding Columns\n",
        "\n",
        "Dropping columns\n",
        "\n",
        "Renaming Columns"
      ]
    },
    {
      "cell_type": "markdown",
      "id": "a19b13fc",
      "metadata": {
        "id": "a19b13fc"
      },
      "source": [
        "from pyspark.sql import SparkSession"
      ]
    },
    {
      "cell_type": "code",
      "execution_count": null,
      "id": "a03b1dd7",
      "metadata": {
        "id": "a03b1dd7"
      },
      "outputs": [],
      "source": [
        "spark=SparkSession.builder.appName('Dataframe').getOrCreate()"
      ]
    },
    {
      "cell_type": "code",
      "execution_count": null,
      "id": "a70eed58",
      "metadata": {
        "id": "a70eed58"
      },
      "outputs": [],
      "source": [
        "spark"
      ]
    },
    {
      "cell_type": "code",
      "execution_count": null,
      "id": "80792e8f",
      "metadata": {
        "id": "80792e8f"
      },
      "outputs": [],
      "source": [
        "## read the dataset\n",
        "df_pyspark=spark.read.option('header','true').csv('test1.csv',inferSchema=True)"
      ]
    },
    {
      "cell_type": "code",
      "execution_count": null,
      "id": "ef39bcf3",
      "metadata": {
        "id": "ef39bcf3"
      },
      "outputs": [],
      "source": [
        "### Check the schema\n",
        "df_pyspark.printSchema()"
      ]
    },
    {
      "cell_type": "code",
      "execution_count": null,
      "id": "c6e44289",
      "metadata": {
        "id": "c6e44289"
      },
      "outputs": [],
      "source": [
        "df_pyspark=spark.read.csv('test1.csv',header=True,inferSchema=True)\n",
        "df_pyspark.show()"
      ]
    },
    {
      "cell_type": "code",
      "execution_count": null,
      "id": "dd6c6bb4",
      "metadata": {
        "id": "dd6c6bb4"
      },
      "outputs": [],
      "source": [
        "### Check the schema\n",
        "df_pyspark.printSchema()"
      ]
    },
    {
      "cell_type": "code",
      "execution_count": null,
      "id": "4aa79ce0",
      "metadata": {
        "id": "4aa79ce0"
      },
      "outputs": [],
      "source": [
        "type(df_pyspark)"
      ]
    },
    {
      "cell_type": "code",
      "execution_count": null,
      "id": "be8fe7f4",
      "metadata": {
        "id": "be8fe7f4"
      },
      "outputs": [],
      "source": [
        "df_pyspark.head(3)"
      ]
    },
    {
      "cell_type": "code",
      "execution_count": null,
      "id": "6d080682",
      "metadata": {
        "id": "6d080682"
      },
      "outputs": [],
      "source": [
        "df_pyspark.show()"
      ]
    },
    {
      "cell_type": "code",
      "execution_count": null,
      "id": "b13a0deb",
      "metadata": {
        "id": "b13a0deb"
      },
      "outputs": [],
      "source": [
        "df_pyspark.select(['Name','Experience']).show()"
      ]
    },
    {
      "cell_type": "code",
      "execution_count": null,
      "id": "991efc60",
      "metadata": {
        "id": "991efc60"
      },
      "outputs": [],
      "source": [
        "df_pyspark['Name']"
      ]
    },
    {
      "cell_type": "code",
      "execution_count": null,
      "id": "41946c1e",
      "metadata": {
        "id": "41946c1e"
      },
      "outputs": [],
      "source": [
        "df_pyspark.dtypes"
      ]
    },
    {
      "cell_type": "code",
      "execution_count": null,
      "id": "19067b09",
      "metadata": {
        "id": "19067b09"
      },
      "outputs": [],
      "source": [
        "df_pyspark.describe().show()"
      ]
    },
    {
      "cell_type": "code",
      "execution_count": null,
      "id": "07018928",
      "metadata": {
        "id": "07018928"
      },
      "outputs": [],
      "source": [
        "### Adding Columns in data frame\n",
        "df_pyspark=df_pyspark.withColumn('Experience After 2 year',df_pyspark['Experience']+2)"
      ]
    },
    {
      "cell_type": "code",
      "execution_count": null,
      "id": "2397ca17",
      "metadata": {
        "id": "2397ca17"
      },
      "outputs": [],
      "source": [
        "df_pyspark.show()"
      ]
    },
    {
      "cell_type": "code",
      "execution_count": null,
      "id": "7dbdd0ac",
      "metadata": {
        "id": "7dbdd0ac"
      },
      "outputs": [],
      "source": [
        "### Drop the columns\n",
        "df_pyspark=df_pyspark.drop('Experience After 2 year')"
      ]
    },
    {
      "cell_type": "code",
      "execution_count": null,
      "id": "0c682feb",
      "metadata": {
        "id": "0c682feb"
      },
      "outputs": [],
      "source": [
        "df_pyspark.show()"
      ]
    },
    {
      "cell_type": "code",
      "execution_count": null,
      "id": "b6ae4b22",
      "metadata": {
        "id": "b6ae4b22"
      },
      "outputs": [],
      "source": [
        "### Rename the columns\n",
        "df_pyspark.withColumnRenamed('Name','New Name').show()"
      ]
    },
    {
      "cell_type": "code",
      "execution_count": null,
      "id": "6fa0f461",
      "metadata": {
        "id": "6fa0f461"
      },
      "outputs": [],
      "source": [
        ""
      ]
    },
    {
      "cell_type": "code",
      "execution_count": null,
      "id": "89c9681f",
      "metadata": {
        "id": "89c9681f"
      },
      "outputs": [],
      "source": [
        ""
      ]
    },
    {
      "cell_type": "code",
      "execution_count": null,
      "id": "163077c8",
      "metadata": {
        "id": "163077c8"
      },
      "outputs": [],
      "source": [
        ""
      ]
    }
  ],
  "metadata": {
    "kernelspec": {
      "display_name": "Python 3",
      "language": "python",
      "name": "python3"
    },
    "language_info": {
      "codemirror_mode": {
        "name": "ipython",
        "version": 3
      },
      "file_extension": ".py",
      "mimetype": "text/x-python",
      "name": "python",
      "nbconvert_exporter": "python",
      "pygments_lexer": "ipython3",
      "version": "3.8.8"
    },
    "toc": {
      "base_numbering": 1,
      "nav_menu": {},
      "number_sections": true,
      "sideBar": true,
      "skip_h1_title": false,
      "title_cell": "Table of Contents",
      "title_sidebar": "Contents",
      "toc_cell": false,
      "toc_position": {},
      "toc_section_display": true,
      "toc_window_display": false
    },
    "varInspector": {
      "cols": {
        "lenName": 16,
        "lenType": 16,
        "lenVar": 40
      },
      "kernels_config": {
        "python": {
          "delete_cmd_postfix": "",
          "delete_cmd_prefix": "del ",
          "library": "var_list.py",
          "varRefreshCmd": "print(var_dic_list())"
        },
        "r": {
          "delete_cmd_postfix": ") ",
          "delete_cmd_prefix": "rm(",
          "library": "var_list.r",
          "varRefreshCmd": "cat(var_dic_list()) "
        }
      },
      "types_to_exclude": [
        "module",
        "function",
        "builtin_function_or_method",
        "instance",
        "_Feature"
      ],
      "window_display": false
    },
    "colab": {
      "name": "PySpark DataFrames- Part 1.ipynb",
      "provenance": [],
      "include_colab_link": true
    }
  },
  "nbformat": 4,
  "nbformat_minor": 5
}