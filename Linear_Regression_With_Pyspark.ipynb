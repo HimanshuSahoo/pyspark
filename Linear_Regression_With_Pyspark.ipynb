{
  "cells": [
    {
      "cell_type": "markdown",
      "metadata": {
        "id": "view-in-github",
        "colab_type": "text"
      },
      "source": [
        "<a href=\"https://colab.research.google.com/github/HimanshuSahoo/pyspark/blob/main/Linear_Regression_With_Pyspark.ipynb\" target=\"_parent\"><img src=\"https://colab.research.google.com/assets/colab-badge.svg\" alt=\"Open In Colab\"/></a>"
      ]
    },
    {
      "cell_type": "markdown",
      "id": "bba7191d",
      "metadata": {
        "id": "bba7191d"
      },
      "source": [
        "## Overview\n",
        "This notebook will show you how to create and query a table or DataFrame that you uploaded to DBFS. DBFS is a Databricks File System that allows you to store data for querying inside of Databricks. This notebook assumes that you have a file already inside of DBFS that you would like to read from.\n",
        "\n",
        "This notebook is written in Python so the default cell type is Python. However, you can use different languages by using the %LANGUAGE syntax. Python, Scala, SQL, and R are all supported."
      ]
    },
    {
      "cell_type": "code",
      "execution_count": null,
      "id": "a11d87e3",
      "metadata": {
        "id": "a11d87e3"
      },
      "outputs": [],
      "source": [
        "# File location and type\n",
        "file_location = \"/FileStore/tables/tips.csv\"\n",
        "file_type = \"csv\"\n",
        "\n",
        "# The applied options are for CSV files. For other file types, these will be ignored.\n",
        "df =spark.read.csv(file_location,header=True,inferSchema=True)\n",
        "df.show()"
      ]
    },
    {
      "cell_type": "code",
      "execution_count": null,
      "id": "6aa4ad4c",
      "metadata": {
        "id": "6aa4ad4c"
      },
      "outputs": [],
      "source": [
        "df.printSchema()"
      ]
    },
    {
      "cell_type": "code",
      "execution_count": null,
      "id": "f0271901",
      "metadata": {
        "id": "f0271901"
      },
      "outputs": [],
      "source": [
        "df.columns"
      ]
    },
    {
      "cell_type": "code",
      "execution_count": null,
      "id": "f0707322",
      "metadata": {
        "id": "f0707322"
      },
      "outputs": [],
      "source": [
        "### Handling Categorical Features\n",
        "from pyspark.ml.feature import StringIndexer"
      ]
    },
    {
      "cell_type": "code",
      "execution_count": null,
      "id": "f232ef72",
      "metadata": {
        "id": "f232ef72"
      },
      "outputs": [],
      "source": [
        "df.show()"
      ]
    },
    {
      "cell_type": "code",
      "execution_count": null,
      "id": "01d37dd5",
      "metadata": {
        "id": "01d37dd5"
      },
      "outputs": [],
      "source": [
        "indexer=StringIndexer(inputCol=\"sex\",outputCol=\"sex_indexed\")\n",
        "df_r=indexer.fit(df).transform(df)\n",
        "df_r.show()"
      ]
    },
    {
      "cell_type": "code",
      "execution_count": null,
      "id": "2276ec27",
      "metadata": {
        "id": "2276ec27"
      },
      "outputs": [],
      "source": [
        "indexer=StringIndexer(inputCols=[\"smoker\",\"day\",\"time\"],outputCols=[\"smoker_indexed\",\"day_indexed\",\n",
        "                                                                  \"time_index\"])\n",
        "df_r=indexer.fit(df_r).transform(df_r)\n",
        "df_r.show()"
      ]
    },
    {
      "cell_type": "code",
      "execution_count": null,
      "id": "03ac374a",
      "metadata": {
        "id": "03ac374a"
      },
      "outputs": [],
      "source": [
        "df_r.columns"
      ]
    },
    {
      "cell_type": "code",
      "execution_count": null,
      "id": "3c172e65",
      "metadata": {
        "id": "3c172e65"
      },
      "outputs": [],
      "source": [
        "from pyspark.ml.feature import VectorAssembler\n",
        "featureassembler=VectorAssembler(inputCols=['tip','size','sex_indexed','smoker_indexed','day_indexed',\n",
        "                          'time_index'],outputCol=\"Independent Features\")\n",
        "output=featureassembler.transform(df_r)"
      ]
    },
    {
      "cell_type": "code",
      "execution_count": null,
      "id": "bc52c9a6",
      "metadata": {
        "id": "bc52c9a6"
      },
      "outputs": [],
      "source": [
        "output.select('Independent Features').show()"
      ]
    },
    {
      "cell_type": "code",
      "execution_count": null,
      "id": "b49e194d",
      "metadata": {
        "id": "b49e194d"
      },
      "outputs": [],
      "source": [
        "output.show()"
      ]
    },
    {
      "cell_type": "code",
      "execution_count": null,
      "id": "b18a05e1",
      "metadata": {
        "id": "b18a05e1"
      },
      "outputs": [],
      "source": [
        "finalized_data=output.select(\"Independent Features\",\"total_bill\")"
      ]
    },
    {
      "cell_type": "code",
      "execution_count": null,
      "id": "f6144a46",
      "metadata": {
        "id": "f6144a46"
      },
      "outputs": [],
      "source": [
        "finalized_data.show()"
      ]
    },
    {
      "cell_type": "code",
      "execution_count": null,
      "id": "7930e90a",
      "metadata": {
        "id": "7930e90a"
      },
      "outputs": [],
      "source": [
        "from pyspark.ml.regression import LinearRegression\n",
        "##train test split\n",
        "train_data,test_data=finalized_data.randomSplit([0.75,0.25])\n",
        "regressor=LinearRegression(featuresCol='Independent Features', labelCol='total_bill')\n",
        "regressor=regressor.fit(train_data)"
      ]
    },
    {
      "cell_type": "code",
      "execution_count": null,
      "id": "ade7e4c1",
      "metadata": {
        "id": "ade7e4c1"
      },
      "outputs": [],
      "source": [
        "regressor.coefficients"
      ]
    },
    {
      "cell_type": "code",
      "execution_count": null,
      "id": "9e492cd9",
      "metadata": {
        "id": "9e492cd9"
      },
      "outputs": [],
      "source": [
        "regressor.intercept"
      ]
    },
    {
      "cell_type": "code",
      "execution_count": null,
      "id": "5f2a1074",
      "metadata": {
        "id": "5f2a1074"
      },
      "outputs": [],
      "source": [
        "### Predictions\n",
        "pred_results=regressor.evaluate(test_data)"
      ]
    },
    {
      "cell_type": "code",
      "execution_count": null,
      "id": "367310b8",
      "metadata": {
        "id": "367310b8"
      },
      "outputs": [],
      "source": [
        "## Final comparison\n",
        "pred_results.predictions.show()"
      ]
    },
    {
      "cell_type": "code",
      "execution_count": null,
      "id": "47ef95fc",
      "metadata": {
        "id": "47ef95fc"
      },
      "outputs": [],
      "source": [
        "### PErformance Metrics\n",
        "pred_results.r2,pred_results.meanAbsoluteError,pred_results.meanSquaredError"
      ]
    }
  ],
  "metadata": {
    "kernelspec": {
      "display_name": "Python 3",
      "language": "python",
      "name": "python3"
    },
    "language_info": {
      "codemirror_mode": {
        "name": "ipython",
        "version": 3
      },
      "file_extension": ".py",
      "mimetype": "text/x-python",
      "name": "python",
      "nbconvert_exporter": "python",
      "pygments_lexer": "ipython3",
      "version": "3.8.8"
    },
    "toc": {
      "base_numbering": 1,
      "nav_menu": {},
      "number_sections": true,
      "sideBar": true,
      "skip_h1_title": false,
      "title_cell": "Table of Contents",
      "title_sidebar": "Contents",
      "toc_cell": false,
      "toc_position": {},
      "toc_section_display": true,
      "toc_window_display": false
    },
    "varInspector": {
      "cols": {
        "lenName": 16,
        "lenType": 16,
        "lenVar": 40
      },
      "kernels_config": {
        "python": {
          "delete_cmd_postfix": "",
          "delete_cmd_prefix": "del ",
          "library": "var_list.py",
          "varRefreshCmd": "print(var_dic_list())"
        },
        "r": {
          "delete_cmd_postfix": ") ",
          "delete_cmd_prefix": "rm(",
          "library": "var_list.r",
          "varRefreshCmd": "cat(var_dic_list()) "
        }
      },
      "types_to_exclude": [
        "module",
        "function",
        "builtin_function_or_method",
        "instance",
        "_Feature"
      ],
      "window_display": false
    },
    "colab": {
      "name": "Linear Regression With Pyspark.ipynb",
      "provenance": [],
      "include_colab_link": true
    }
  },
  "nbformat": 4,
  "nbformat_minor": 5
}