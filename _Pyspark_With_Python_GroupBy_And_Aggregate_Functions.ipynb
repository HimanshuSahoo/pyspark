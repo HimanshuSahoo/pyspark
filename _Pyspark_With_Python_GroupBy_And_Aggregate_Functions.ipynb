{
  "cells": [
    {
      "cell_type": "markdown",
      "metadata": {
        "id": "view-in-github",
        "colab_type": "text"
      },
      "source": [
        "<a href=\"https://colab.research.google.com/github/HimanshuSahoo/pyspark/blob/main/_Pyspark_With_Python_GroupBy_And_Aggregate_Functions.ipynb\" target=\"_parent\"><img src=\"https://colab.research.google.com/assets/colab-badge.svg\" alt=\"Open In Colab\"/></a>"
      ]
    },
    {
      "cell_type": "markdown",
      "id": "f4fcae81",
      "metadata": {
        "id": "f4fcae81"
      },
      "source": [
        "## Pyspark GroupBy And Aggregate Functions"
      ]
    },
    {
      "cell_type": "code",
      "execution_count": null,
      "id": "838bd36e",
      "metadata": {
        "id": "838bd36e"
      },
      "outputs": [],
      "source": [
        "from pyspark.sql import SparkSession"
      ]
    },
    {
      "cell_type": "code",
      "execution_count": null,
      "id": "f6f97c55",
      "metadata": {
        "id": "f6f97c55"
      },
      "outputs": [],
      "source": [
        "spark=SparkSession.builder.appName('Agg').getOrCreate()"
      ]
    },
    {
      "cell_type": "code",
      "execution_count": null,
      "id": "e1020636",
      "metadata": {
        "id": "e1020636"
      },
      "outputs": [],
      "source": [
        "spark"
      ]
    },
    {
      "cell_type": "code",
      "execution_count": null,
      "id": "b02209fb",
      "metadata": {
        "id": "b02209fb"
      },
      "outputs": [],
      "source": [
        "df_pyspark=spark.read.csv('test3.csv',header=True,inferSchema=True)"
      ]
    },
    {
      "cell_type": "code",
      "execution_count": null,
      "id": "fd242520",
      "metadata": {
        "id": "fd242520"
      },
      "outputs": [],
      "source": [
        "df_pyspark.show()"
      ]
    },
    {
      "cell_type": "code",
      "execution_count": null,
      "id": "a45d3f3e",
      "metadata": {
        "id": "a45d3f3e"
      },
      "outputs": [],
      "source": [
        "df_pyspark.printSchema()"
      ]
    },
    {
      "cell_type": "code",
      "execution_count": null,
      "id": "881818d5",
      "metadata": {
        "id": "881818d5"
      },
      "outputs": [],
      "source": [
        "## Groupby\n",
        "### Grouped to find the maximum salary\n",
        "df_pyspark.groupBy('Name').sum().show()"
      ]
    },
    {
      "cell_type": "code",
      "execution_count": null,
      "id": "e4b94461",
      "metadata": {
        "id": "e4b94461"
      },
      "outputs": [],
      "source": [
        "df_pyspark.groupBy('Name').avg().show()"
      ]
    },
    {
      "cell_type": "code",
      "execution_count": null,
      "id": "6999bbb0",
      "metadata": {
        "id": "6999bbb0"
      },
      "outputs": [],
      "source": [
        "### Groupby Departmernts  which gives maximum salary\n",
        "df_pyspark.groupBy('Departments').sum().show()"
      ]
    },
    {
      "cell_type": "code",
      "execution_count": null,
      "id": "ac3ed067",
      "metadata": {
        "id": "ac3ed067"
      },
      "outputs": [],
      "source": [
        "df_pyspark.groupBy('Departments').mean().show()"
      ]
    },
    {
      "cell_type": "code",
      "execution_count": null,
      "id": "9448e795",
      "metadata": {
        "id": "9448e795"
      },
      "outputs": [],
      "source": [
        "df_pyspark.groupBy('Departments').count().show()"
      ]
    },
    {
      "cell_type": "code",
      "execution_count": null,
      "id": "c5c6c39c",
      "metadata": {
        "id": "c5c6c39c"
      },
      "outputs": [],
      "source": [
        "df_pyspark.agg({'Salary':'sum'}).show()"
      ]
    },
    {
      "cell_type": "code",
      "execution_count": null,
      "id": "362e42a7",
      "metadata": {
        "id": "362e42a7"
      },
      "outputs": [],
      "source": [
        ""
      ]
    },
    {
      "cell_type": "code",
      "execution_count": null,
      "id": "735d9f4e",
      "metadata": {
        "id": "735d9f4e"
      },
      "outputs": [],
      "source": [
        ""
      ]
    }
  ],
  "metadata": {
    "kernelspec": {
      "display_name": "Python 3",
      "language": "python",
      "name": "python3"
    },
    "language_info": {
      "codemirror_mode": {
        "name": "ipython",
        "version": 3
      },
      "file_extension": ".py",
      "mimetype": "text/x-python",
      "name": "python",
      "nbconvert_exporter": "python",
      "pygments_lexer": "ipython3",
      "version": "3.8.8"
    },
    "toc": {
      "base_numbering": 1,
      "nav_menu": {},
      "number_sections": true,
      "sideBar": true,
      "skip_h1_title": false,
      "title_cell": "Table of Contents",
      "title_sidebar": "Contents",
      "toc_cell": false,
      "toc_position": {},
      "toc_section_display": true,
      "toc_window_display": false
    },
    "varInspector": {
      "cols": {
        "lenName": 16,
        "lenType": 16,
        "lenVar": 40
      },
      "kernels_config": {
        "python": {
          "delete_cmd_postfix": "",
          "delete_cmd_prefix": "del ",
          "library": "var_list.py",
          "varRefreshCmd": "print(var_dic_list())"
        },
        "r": {
          "delete_cmd_postfix": ") ",
          "delete_cmd_prefix": "rm(",
          "library": "var_list.r",
          "varRefreshCmd": "cat(var_dic_list()) "
        }
      },
      "types_to_exclude": [
        "module",
        "function",
        "builtin_function_or_method",
        "instance",
        "_Feature"
      ],
      "window_display": false
    },
    "colab": {
      "name": "_Pyspark With Python-GroupBy And Aggregate Functions.ipynb",
      "provenance": [],
      "include_colab_link": true
    }
  },
  "nbformat": 4,
  "nbformat_minor": 5
}